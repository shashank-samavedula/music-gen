{
  "nbformat": 4,
  "nbformat_minor": 0,
  "metadata": {
    "colab": {
      "provenance": []
    },
    "kernelspec": {
      "name": "python3",
      "display_name": "Python 3"
    },
    "language_info": {
      "name": "python"
    }
  },
  "cells": [
    {
      "cell_type": "markdown",
      "source": [
        "# **Music Generation using Deep Learning**\n",
        "\n",
        "This notebook demonstrates how to generate music using deep learning techniques, specifically an LSTM-based neural network. The process involves reading MIDI files, preprocessing the data, training the model, and using it to generate new music sequences."
      ],
      "metadata": {
        "id": "DTwnIPZetOfd"
      }
    },
    {
      "cell_type": "code",
      "source": [
        "# Import the required libraries\n",
        "from music21 import *\n",
        "import os\n",
        "import numpy as np\n",
        "from collections import Counter\n",
        "import matplotlib.pyplot as plt\n",
        "from sklearn.model_selection import train_test_split\n",
        "from keras.layers import *\n",
        "from keras.models import *\n",
        "from keras.callbacks import *\n",
        "import keras.backend as K"
      ],
      "metadata": {
        "id": "FOFzVY4VvHY9"
      },
      "execution_count": 27,
      "outputs": []
    },
    {
      "cell_type": "markdown",
      "source": [
        "# **Task 1: Read MIDI Files and Extract Notes**\n",
        "\n",
        "In this section, MIDI files are read and the individual notes are extracted from the piano instrument for further processing."
      ],
      "metadata": {
        "id": "arTIDw4_3lXt"
      }
    },
    {
      "cell_type": "code",
      "source": [
        "#defining function to read MIDI files\n",
        "def read_midi(file):\n",
        "\n",
        "    print(\"Loading Music File:\",file)\n",
        "\n",
        "    notes=[]\n",
        "    notes_to_parse = None\n",
        "\n",
        "    #parsing a midi file\n",
        "    midi = converter.parse(file)\n",
        "\n",
        "    #grouping based on different instruments\n",
        "    s2 = instrument.partitionByInstrument(midi)\n",
        "\n",
        "    #Looping over all the instruments\n",
        "    for part in s2.parts:\n",
        "\n",
        "        #select elements of only piano\n",
        "        if 'Piano' in str(part):\n",
        "\n",
        "            notes_to_parse = part.recurse()\n",
        "\n",
        "            #finding whether a particular element is note or a chord\n",
        "            for element in notes_to_parse:\n",
        "\n",
        "                #note\n",
        "                if isinstance(element, note.Note):\n",
        "                    notes.append(str(element.pitch))\n",
        "\n",
        "                #chord\n",
        "                elif isinstance(element, chord.Chord):\n",
        "                    notes.append('.'.join(str(n) for n in element.normalOrder))\n",
        "\n",
        "    return np.array(notes)\n"
      ],
      "metadata": {
        "id": "W_NP4W0g7eAC"
      },
      "execution_count": 2,
      "outputs": []
    },
    {
      "cell_type": "code",
      "source": [
        "#for listing down the file names\n",
        "import os\n",
        "\n",
        "#Array Processing\n",
        "import numpy as np\n",
        "\n",
        "#specify the path\n",
        "path='schubert/'\n",
        "\n",
        "#read all the filenames\n",
        "files=[i for i in os.listdir(path) if i.endswith(\".mid\")]\n",
        "\n",
        "#reading each midi file\n",
        "notes_array = np.array([read_midi(path+i) for i in files])"
      ],
      "metadata": {
        "colab": {
          "base_uri": "https://localhost:8080/"
        },
        "id": "-rnWQVbNtJFu",
        "outputId": "3d3d8c2d-fc9c-465a-ae86-8523bc4b6657"
      },
      "execution_count": 3,
      "outputs": [
        {
          "output_type": "stream",
          "name": "stdout",
          "text": [
            "Loading Music File: schubert/beethoven_hammerklavier_2.mid\n"
          ]
        },
        {
          "output_type": "stream",
          "name": "stderr",
          "text": [
            "/usr/local/lib/python3.10/dist-packages/music21/midi/translate.py:863: TranslateWarning: Unable to determine instrument from <music21.midi.MidiEvent SEQUENCE_TRACK_NAME, track=5, channel=None, data=b'Copyright \\xa9 2008 by Bernd Krueger'>; getting generic Instrument\n",
            "  warnings.warn(\n"
          ]
        },
        {
          "output_type": "stream",
          "name": "stdout",
          "text": [
            "Loading Music File: schubert/beethoven_opus22_2.mid\n"
          ]
        },
        {
          "output_type": "stream",
          "name": "stderr",
          "text": [
            "/usr/local/lib/python3.10/dist-packages/music21/midi/translate.py:863: TranslateWarning: Unable to determine instrument from <music21.midi.MidiEvent SEQUENCE_TRACK_NAME, track=5, channel=None, data=b'Copyright \\xa9 2009 by Bernd Krueger'>; getting generic Instrument\n",
            "  warnings.warn(\n"
          ]
        },
        {
          "output_type": "stream",
          "name": "stdout",
          "text": [
            "Loading Music File: schubert/beethoven_opus10_3.mid\n",
            "Loading Music File: schubert/beethoven_hammerklavier_3.mid\n",
            "Loading Music File: schubert/beethoven_hammerklavier_4.mid\n",
            "Loading Music File: schubert/beethoven_hammerklavier_1.mid\n",
            "Loading Music File: schubert/beethoven_opus10_1.mid\n",
            "Loading Music File: schubert/beethoven_opus22_4.mid\n",
            "Loading Music File: schubert/beethoven_opus10_2.mid\n",
            "Loading Music File: schubert/beethoven_opus22_3.mid\n",
            "Loading Music File: schubert/beethoven_opus90_2.mid\n"
          ]
        },
        {
          "output_type": "stream",
          "name": "stderr",
          "text": [
            "/usr/local/lib/python3.10/dist-packages/music21/midi/translate.py:863: TranslateWarning: Unable to determine instrument from <music21.midi.MidiEvent SEQUENCE_TRACK_NAME, track=5, channel=None, data=b'Copyright \\xa9 2010 by Bernd Krueger'>; getting generic Instrument\n",
            "  warnings.warn(\n"
          ]
        },
        {
          "output_type": "stream",
          "name": "stdout",
          "text": [
            "Loading Music File: schubert/appass_2.mid\n"
          ]
        },
        {
          "output_type": "stream",
          "name": "stderr",
          "text": [
            "/usr/local/lib/python3.10/dist-packages/music21/midi/translate.py:863: TranslateWarning: Unable to determine instrument from <music21.midi.MidiEvent SEQUENCE_TRACK_NAME, track=5, channel=None, data=b'Copyright \\xa9 2001 by Bernd Kr\\xfcger'>; getting generic Instrument\n",
            "  warnings.warn(\n"
          ]
        },
        {
          "output_type": "stream",
          "name": "stdout",
          "text": [
            "Loading Music File: schubert/beethoven_les_adieux_3.mid\n",
            "Loading Music File: schubert/elise.mid\n"
          ]
        },
        {
          "output_type": "stream",
          "name": "stderr",
          "text": [
            "/usr/local/lib/python3.10/dist-packages/music21/midi/translate.py:863: TranslateWarning: Unable to determine instrument from <music21.midi.MidiEvent SEQUENCE_TRACK_NAME, track=0, channel=None, data=b'F\\xfcr Elise'>; getting generic Instrument\n",
            "  warnings.warn(\n",
            "/usr/local/lib/python3.10/dist-packages/music21/midi/translate.py:863: TranslateWarning: Unable to determine instrument from <music21.midi.MidiEvent SEQUENCE_TRACK_NAME, track=3, channel=None, data=b'Beethoven F\\xfcr Elise'>; getting generic Instrument\n",
            "  warnings.warn(\n",
            "/usr/local/lib/python3.10/dist-packages/music21/midi/translate.py:863: TranslateWarning: Unable to determine instrument from <music21.midi.MidiEvent SEQUENCE_TRACK_NAME, track=4, channel=None, data=b'Copyright \\xa9 2004 by Bernd Kr\\xfcger'>; getting generic Instrument\n",
            "  warnings.warn(\n"
          ]
        },
        {
          "output_type": "stream",
          "name": "stdout",
          "text": [
            "Loading Music File: schubert/beethoven_les_adieux_2.mid\n",
            "Loading Music File: schubert/waldstein_1.mid\n"
          ]
        },
        {
          "output_type": "stream",
          "name": "stderr",
          "text": [
            "/usr/local/lib/python3.10/dist-packages/music21/midi/translate.py:863: TranslateWarning: Unable to determine instrument from <music21.midi.MidiEvent SEQUENCE_TRACK_NAME, track=5, channel=None, data=b'Copyright \\xa9 2003 by Bernd Krueger'>; getting generic Instrument\n",
            "  warnings.warn(\n"
          ]
        },
        {
          "output_type": "stream",
          "name": "stdout",
          "text": [
            "Loading Music File: schubert/beethoven_opus22_1.mid\n",
            "Loading Music File: schubert/appass_1.mid\n",
            "Loading Music File: schubert/appass_3.mid\n",
            "Loading Music File: schubert/beethoven_les_adieux_1.mid\n"
          ]
        },
        {
          "output_type": "stream",
          "name": "stderr",
          "text": [
            "<ipython-input-3-13269b8794bc>:14: VisibleDeprecationWarning: Creating an ndarray from ragged nested sequences (which is a list-or-tuple of lists-or-tuples-or ndarrays with different lengths or shapes) is deprecated. If you meant to do this, you must specify 'dtype=object' when creating the ndarray.\n",
            "  notes_array = np.array([read_midi(path+i) for i in files])\n"
          ]
        }
      ]
    },
    {
      "cell_type": "code",
      "source": [
        "#converting 2D array into 1D array\n",
        "notes_ = [element for note_ in notes_array for element in note_]\n",
        "\n",
        "#No. of unique notes\n",
        "unique_notes = list(set(notes_))\n",
        "print(len(unique_notes))"
      ],
      "metadata": {
        "colab": {
          "base_uri": "https://localhost:8080/"
        },
        "id": "nskE1jxStJIH",
        "outputId": "c3da45d4-67a4-4b55-c72e-769f9e156084"
      },
      "execution_count": 4,
      "outputs": [
        {
          "output_type": "stream",
          "name": "stdout",
          "text": [
            "336\n"
          ]
        }
      ]
    },
    {
      "cell_type": "code",
      "source": [
        "#computing frequency of each note\n",
        "freq = dict(Counter(notes_))\n",
        "\n",
        "#library for visualiation\n",
        "import matplotlib.pyplot as plt\n",
        "\n",
        "#consider only the frequencies\n",
        "no=[count for _,count in freq.items()]\n",
        "\n",
        "#set the figure size\n",
        "plt.figure(figsize=(5,5))\n",
        "\n",
        "#plot\n",
        "plt.hist(no)"
      ],
      "metadata": {
        "colab": {
          "base_uri": "https://localhost:8080/",
          "height": 532
        },
        "id": "QlAcm4FMtJKi",
        "outputId": "05b7497f-5b38-449d-db39-711357087096"
      },
      "execution_count": 5,
      "outputs": [
        {
          "output_type": "execute_result",
          "data": {
            "text/plain": [
              "(array([238.,  34.,  22.,   9.,   8.,   9.,   6.,   5.,   3.,   2.]),\n",
              " array([1.0000e+00, 1.5550e+02, 3.1000e+02, 4.6450e+02, 6.1900e+02,\n",
              "        7.7350e+02, 9.2800e+02, 1.0825e+03, 1.2370e+03, 1.3915e+03,\n",
              "        1.5460e+03]),\n",
              " <BarContainer object of 10 artists>)"
            ]
          },
          "metadata": {},
          "execution_count": 5
        },
        {
          "output_type": "display_data",
          "data": {
            "text/plain": [
              "<Figure size 500x500 with 1 Axes>"
            ],
            "image/png": "[encoded data removed]"
          },
          "metadata": {
            "image/png": {
              "width": 456,
              "height": 428
            }
          }
        }
      ]
    },
    {
      "cell_type": "markdown",
      "source": [
        "# **Task 2: Data Preprocessing for Deep Learning**\n",
        "\n",
        "Here, the extracted notes are preprocessed to create input and output sequences for the LSTM model. Then, the data is split into training and validation sets."
      ],
      "metadata": {
        "id": "gtQTAKgA39_w"
      }
    },
    {
      "cell_type": "code",
      "source": [
        "frequent_notes = [note_ for note_, count in freq.items() if count>=50]\n",
        "print(len(frequent_notes))"
      ],
      "metadata": {
        "colab": {
          "base_uri": "https://localhost:8080/"
        },
        "id": "in5AYc-Ht9RU",
        "outputId": "162ae4d1-ac9e-4d3b-b0f3-1e92b2137f91"
      },
      "execution_count": 6,
      "outputs": [
        {
          "output_type": "stream",
          "name": "stdout",
          "text": [
            "159\n"
          ]
        }
      ]
    },
    {
      "cell_type": "code",
      "source": [
        "new_music=[]\n",
        "\n",
        "for notes in notes_array:\n",
        "    temp=[]\n",
        "    for note_ in notes:\n",
        "        if note_ in frequent_notes:\n",
        "            temp.append(note_)\n",
        "    new_music.append(temp)\n",
        "\n",
        "new_music = np.array(new_music)"
      ],
      "metadata": {
        "colab": {
          "base_uri": "https://localhost:8080/"
        },
        "id": "AMCSlgGdtJNC",
        "outputId": "5c1377a1-7115-4489-9712-0755d06908af"
      },
      "execution_count": 7,
      "outputs": [
        {
          "output_type": "stream",
          "name": "stderr",
          "text": [
            "<ipython-input-7-2fa7923ce1b3>:10: VisibleDeprecationWarning: Creating an ndarray from ragged nested sequences (which is a list-or-tuple of lists-or-tuples-or ndarrays with different lengths or shapes) is deprecated. If you meant to do this, you must specify 'dtype=object' when creating the ndarray.\n",
            "  new_music = np.array(new_music)\n"
          ]
        }
      ]
    },
    {
      "cell_type": "code",
      "source": [
        "no_of_timesteps = 32\n",
        "x = []\n",
        "y = []\n",
        "\n",
        "for note_ in new_music:\n",
        "    for i in range(0, len(note_) - no_of_timesteps, 1):\n",
        "\n",
        "        #preparing input and output sequences\n",
        "        input_ = note_[i:i + no_of_timesteps]\n",
        "        output = note_[i + no_of_timesteps]\n",
        "\n",
        "        x.append(input_)\n",
        "        y.append(output)\n",
        "\n",
        "x=np.array(x)\n",
        "y=np.array(y)"
      ],
      "metadata": {
        "id": "Vd2PGEnOtJPT"
      },
      "execution_count": 8,
      "outputs": []
    },
    {
      "cell_type": "code",
      "source": [
        "unique_x = list(set(x.ravel()))\n",
        "x_note_to_int = dict((note_, number) for number, note_ in enumerate(unique_x))"
      ],
      "metadata": {
        "id": "a2ZQ2Ox6uBcs"
      },
      "execution_count": 9,
      "outputs": []
    },
    {
      "cell_type": "code",
      "source": [
        "#preparing input sequences\n",
        "x_seq=[]\n",
        "for i in x:\n",
        "    temp=[]\n",
        "    for j in i:\n",
        "        #assigning unique integer to every note\n",
        "        temp.append(x_note_to_int[j])\n",
        "    x_seq.append(temp)\n",
        "\n",
        "x_seq = np.array(x_seq)\n",
        "\n"
      ],
      "metadata": {
        "id": "7-3EQvlUtJSL"
      },
      "execution_count": 10,
      "outputs": []
    },
    {
      "cell_type": "code",
      "source": [
        "#preparing output sequences\n",
        "unique_y = list(set(y))\n",
        "y_note_to_int = dict((note_, number) for number, note_ in enumerate(unique_y))\n",
        "y_seq=np.array([y_note_to_int[i] for i in y])"
      ],
      "metadata": {
        "id": "ObXYWjYitJU1"
      },
      "execution_count": 11,
      "outputs": []
    },
    {
      "cell_type": "code",
      "source": [
        "from sklearn.model_selection import train_test_split\n",
        "x_tr, x_val, y_tr, y_val = train_test_split(x_seq,y_seq,test_size=0.2,random_state=0)"
      ],
      "metadata": {
        "id": "EPunSYIAtJXk"
      },
      "execution_count": 12,
      "outputs": []
    },
    {
      "cell_type": "markdown",
      "source": [
        "# **Task 3: Define the LSTM Model**\n",
        "\n",
        "The architecture of the LSTM-based deep learning model is defined here. It includes embedding, convolution, pooling, and dense layers for classification."
      ],
      "metadata": {
        "id": "7NiNaTDj4QgG"
      }
    },
    {
      "cell_type": "code",
      "source": [
        "def lstm():\n",
        "  model = Sequential()\n",
        "  model.add(LSTM(128,return_sequences=True))\n",
        "  model.add(LSTM(128))\n",
        "  model.add(Dense(256))\n",
        "  model.add(Activation('relu'))\n",
        "  model.add(Dense(n_vocab))\n",
        "  model.add(Activation('softmax'))\n",
        "  model.compile(loss='sparse_categorical_crossentropy', optimizer='adam')\n",
        "  return model"
      ],
      "metadata": {
        "id": "kIeqozRatJaK"
      },
      "execution_count": 13,
      "outputs": []
    },
    {
      "cell_type": "markdown",
      "source": [
        "# **Task 4: Create the Deep Learning Model**\n",
        "\n",
        "In this section, the LSTM model is created and compiled."
      ],
      "metadata": {
        "id": "36_CKU_y47By"
      }
    },
    {
      "cell_type": "code",
      "source": [
        "K.clear_session()\n",
        "model = Sequential()\n",
        "\n",
        "#embedding layer\n",
        "model.add(Embedding(len(unique_x), 100, input_length=32,trainable=True))\n",
        "\n",
        "model.add(Conv1D(64,3, padding='causal',activation='relu'))\n",
        "model.add(Dropout(0.2))\n",
        "model.add(MaxPool1D(2))\n",
        "\n",
        "model.add(Conv1D(128,3,activation='relu',dilation_rate=2,padding='causal'))\n",
        "model.add(Dropout(0.2))\n",
        "model.add(MaxPool1D(2))\n",
        "\n",
        "model.add(Conv1D(256,3,activation='relu',dilation_rate=4,padding='causal'))\n",
        "model.add(Dropout(0.2))\n",
        "model.add(MaxPool1D(2))\n",
        "\n",
        "#model.add(Conv1D(256,5,activation='relu'))\n",
        "model.add(GlobalMaxPool1D())\n",
        "\n",
        "model.add(Dense(256, activation='relu'))\n",
        "model.add(Dense(len(unique_y), activation='softmax'))\n",
        "\n",
        "model.compile(loss='sparse_categorical_crossentropy', optimizer='adam')\n",
        "\n",
        "model.summary()\n"
      ],
      "metadata": {
        "colab": {
          "base_uri": "https://localhost:8080/"
        },
        "id": "UgFP24zdtJcU",
        "outputId": "507c9ab9-4b4e-4338-af9c-be23a69e9a36"
      },
      "execution_count": 14,
      "outputs": [
        {
          "output_type": "stream",
          "name": "stdout",
          "text": [
            "Model: \"sequential\"\n",
            "_________________________________________________________________\n",
            " Layer (type)                Output Shape              Param #   \n",
            "=================================================================\n",
            " embedding (Embedding)       (None, 32, 100)           15900     \n",
            "                                                                 \n",
            " conv1d (Conv1D)             (None, 32, 64)            19264     \n",
            "                                                                 \n",
            " dropout (Dropout)           (None, 32, 64)            0         \n",
            "                                                                 \n",
            " max_pooling1d (MaxPooling1D  (None, 16, 64)           0         \n",
            " )                                                               \n",
            "                                                                 \n",
            " conv1d_1 (Conv1D)           (None, 16, 128)           24704     \n",
            "                                                                 \n",
            " dropout_1 (Dropout)         (None, 16, 128)           0         \n",
            "                                                                 \n",
            " max_pooling1d_1 (MaxPooling  (None, 8, 128)           0         \n",
            " 1D)                                                             \n",
            "                                                                 \n",
            " conv1d_2 (Conv1D)           (None, 8, 256)            98560     \n",
            "                                                                 \n",
            " dropout_2 (Dropout)         (None, 8, 256)            0         \n",
            "                                                                 \n",
            " max_pooling1d_2 (MaxPooling  (None, 4, 256)           0         \n",
            " 1D)                                                             \n",
            "                                                                 \n",
            " global_max_pooling1d (Globa  (None, 256)              0         \n",
            " lMaxPooling1D)                                                  \n",
            "                                                                 \n",
            " dense (Dense)               (None, 256)               65792     \n",
            "                                                                 \n",
            " dense_1 (Dense)             (None, 159)               40863     \n",
            "                                                                 \n",
            "=================================================================\n",
            "Total params: 265,083\n",
            "Trainable params: 265,083\n",
            "Non-trainable params: 0\n",
            "_________________________________________________________________\n"
          ]
        }
      ]
    },
    {
      "cell_type": "markdown",
      "source": [
        "# **Task 5: Train the Model**\n",
        "\n",
        "The model is trained using the preprocessed data, and the best model is saved."
      ],
      "metadata": {
        "id": "BU09qsW15XM0"
      }
    },
    {
      "cell_type": "code",
      "source": [
        "mc=ModelCheckpoint('best_model.h5', monitor='val_loss', mode='min', save_best_only=True,verbose=1)"
      ],
      "metadata": {
        "id": "x5dQCIQvtJfB"
      },
      "execution_count": 15,
      "outputs": []
    },
    {
      "cell_type": "code",
      "source": [
        "history = model.fit(np.array(x_tr),np.array(y_tr),batch_size=128,epochs=50, validation_data=(np.array(x_val),np.array(y_val)),verbose=1, callbacks=[mc])"
      ],
      "metadata": {
        "colab": {
          "base_uri": "https://localhost:8080/"
        },
        "id": "UQpGox3ctJhc",
        "outputId": "e2dbc874-2519-4302-c516-f66fd6400041"
      },
      "execution_count": 16,
      "outputs": [
        {
          "output_type": "stream",
          "name": "stdout",
          "text": [
            "Epoch 1/50\n",
            "358/359 [============================>.] - ETA: 0s - loss: 4.3848\n",
            "Epoch 1: val_loss improved from inf to 4.16970, saving model to best_model.h5\n",
            "359/359 [==============================] - 37s 98ms/step - loss: 4.3847 - val_loss: 4.1697\n",
            "Epoch 2/50\n",
            "358/359 [============================>.] - ETA: 0s - loss: 3.8915\n",
            "Epoch 2: val_loss improved from 4.16970 to 3.94095, saving model to best_model.h5\n",
            "359/359 [==============================] - 36s 100ms/step - loss: 3.8915 - val_loss: 3.9410\n",
            "Epoch 3/50\n",
            "358/359 [============================>.] - ETA: 0s - loss: 3.7223\n",
            "Epoch 3: val_loss improved from 3.94095 to 3.83041, saving model to best_model.h5\n",
            "359/359 [==============================] - 30s 84ms/step - loss: 3.7222 - val_loss: 3.8304\n",
            "Epoch 4/50\n",
            "358/359 [============================>.] - ETA: 0s - loss: 3.6105\n",
            "Epoch 4: val_loss improved from 3.83041 to 3.74420, saving model to best_model.h5\n",
            "359/359 [==============================] - 31s 85ms/step - loss: 3.6105 - val_loss: 3.7442\n",
            "Epoch 5/50\n",
            "358/359 [============================>.] - ETA: 0s - loss: 3.5203\n",
            "Epoch 5: val_loss improved from 3.74420 to 3.66988, saving model to best_model.h5\n",
            "359/359 [==============================] - 31s 87ms/step - loss: 3.5203 - val_loss: 3.6699\n",
            "Epoch 6/50\n",
            "358/359 [============================>.] - ETA: 0s - loss: 3.4359\n",
            "Epoch 6: val_loss improved from 3.66988 to 3.61972, saving model to best_model.h5\n",
            "359/359 [==============================] - 30s 84ms/step - loss: 3.4358 - val_loss: 3.6197\n",
            "Epoch 7/50\n",
            "358/359 [============================>.] - ETA: 0s - loss: 3.3708\n",
            "Epoch 7: val_loss improved from 3.61972 to 3.58972, saving model to best_model.h5\n",
            "359/359 [==============================] - 31s 87ms/step - loss: 3.3708 - val_loss: 3.5897\n",
            "Epoch 8/50\n",
            "358/359 [============================>.] - ETA: 0s - loss: 3.3073\n",
            "Epoch 8: val_loss improved from 3.58972 to 3.53652, saving model to best_model.h5\n",
            "359/359 [==============================] - 31s 87ms/step - loss: 3.3071 - val_loss: 3.5365\n",
            "Epoch 9/50\n",
            "358/359 [============================>.] - ETA: 0s - loss: 3.2552\n",
            "Epoch 9: val_loss improved from 3.53652 to 3.48709, saving model to best_model.h5\n",
            "359/359 [==============================] - 30s 84ms/step - loss: 3.2555 - val_loss: 3.4871\n",
            "Epoch 10/50\n",
            "358/359 [============================>.] - ETA: 0s - loss: 3.2106\n",
            "Epoch 10: val_loss improved from 3.48709 to 3.45416, saving model to best_model.h5\n",
            "359/359 [==============================] - 31s 87ms/step - loss: 3.2107 - val_loss: 3.4542\n",
            "Epoch 11/50\n",
            "358/359 [============================>.] - ETA: 0s - loss: 3.1696\n",
            "Epoch 11: val_loss improved from 3.45416 to 3.43265, saving model to best_model.h5\n",
            "359/359 [==============================] - 30s 84ms/step - loss: 3.1696 - val_loss: 3.4326\n",
            "Epoch 12/50\n",
            "358/359 [============================>.] - ETA: 0s - loss: 3.1285\n",
            "Epoch 12: val_loss improved from 3.43265 to 3.41189, saving model to best_model.h5\n",
            "359/359 [==============================] - 31s 87ms/step - loss: 3.1285 - val_loss: 3.4119\n",
            "Epoch 13/50\n",
            "358/359 [============================>.] - ETA: 0s - loss: 3.0976\n",
            "Epoch 13: val_loss improved from 3.41189 to 3.38201, saving model to best_model.h5\n",
            "359/359 [==============================] - 30s 84ms/step - loss: 3.0977 - val_loss: 3.3820\n",
            "Epoch 14/50\n",
            "358/359 [============================>.] - ETA: 0s - loss: 3.0596\n",
            "Epoch 14: val_loss improved from 3.38201 to 3.36627, saving model to best_model.h5\n",
            "359/359 [==============================] - 30s 84ms/step - loss: 3.0595 - val_loss: 3.3663\n",
            "Epoch 15/50\n",
            "358/359 [============================>.] - ETA: 0s - loss: 3.0295\n",
            "Epoch 15: val_loss did not improve from 3.36627\n",
            "359/359 [==============================] - 31s 87ms/step - loss: 3.0297 - val_loss: 3.3707\n",
            "Epoch 16/50\n",
            "358/359 [============================>.] - ETA: 0s - loss: 2.9999\n",
            "Epoch 16: val_loss improved from 3.36627 to 3.32910, saving model to best_model.h5\n",
            "359/359 [==============================] - 31s 86ms/step - loss: 3.0000 - val_loss: 3.3291\n",
            "Epoch 17/50\n",
            "358/359 [============================>.] - ETA: 0s - loss: 2.9749\n",
            "Epoch 17: val_loss improved from 3.32910 to 3.32016, saving model to best_model.h5\n",
            "359/359 [==============================] - 31s 87ms/step - loss: 2.9748 - val_loss: 3.3202\n",
            "Epoch 18/50\n",
            "358/359 [============================>.] - ETA: 0s - loss: 2.9465\n",
            "Epoch 18: val_loss improved from 3.32016 to 3.31983, saving model to best_model.h5\n",
            "359/359 [==============================] - 30s 84ms/step - loss: 2.9465 - val_loss: 3.3198\n",
            "Epoch 19/50\n",
            "358/359 [============================>.] - ETA: 0s - loss: 2.9261\n",
            "Epoch 19: val_loss improved from 3.31983 to 3.31098, saving model to best_model.h5\n",
            "359/359 [==============================] - 30s 84ms/step - loss: 2.9259 - val_loss: 3.3110\n",
            "Epoch 20/50\n",
            "358/359 [============================>.] - ETA: 0s - loss: 2.9036\n",
            "Epoch 20: val_loss improved from 3.31098 to 3.30306, saving model to best_model.h5\n",
            "359/359 [==============================] - 31s 87ms/step - loss: 2.9034 - val_loss: 3.3031\n",
            "Epoch 21/50\n",
            "358/359 [============================>.] - ETA: 0s - loss: 2.8829\n",
            "Epoch 21: val_loss improved from 3.30306 to 3.26874, saving model to best_model.h5\n",
            "359/359 [==============================] - 30s 84ms/step - loss: 2.8832 - val_loss: 3.2687\n",
            "Epoch 22/50\n",
            "358/359 [============================>.] - ETA: 0s - loss: 2.8586\n",
            "Epoch 22: val_loss did not improve from 3.26874\n",
            "359/359 [==============================] - 30s 83ms/step - loss: 2.8585 - val_loss: 3.2799\n",
            "Epoch 23/50\n",
            "358/359 [============================>.] - ETA: 0s - loss: 2.8415\n",
            "Epoch 23: val_loss improved from 3.26874 to 3.25778, saving model to best_model.h5\n",
            "359/359 [==============================] - 31s 87ms/step - loss: 2.8415 - val_loss: 3.2578\n",
            "Epoch 24/50\n",
            "358/359 [============================>.] - ETA: 0s - loss: 2.8172\n",
            "Epoch 24: val_loss improved from 3.25778 to 3.25448, saving model to best_model.h5\n",
            "359/359 [==============================] - 30s 84ms/step - loss: 2.8170 - val_loss: 3.2545\n",
            "Epoch 25/50\n",
            "358/359 [============================>.] - ETA: 0s - loss: 2.8015\n",
            "Epoch 25: val_loss improved from 3.25448 to 3.25209, saving model to best_model.h5\n",
            "359/359 [==============================] - 31s 88ms/step - loss: 2.8015 - val_loss: 3.2521\n",
            "Epoch 26/50\n",
            "358/359 [============================>.] - ETA: 0s - loss: 2.7898\n",
            "Epoch 26: val_loss did not improve from 3.25209\n",
            "359/359 [==============================] - 30s 84ms/step - loss: 2.7897 - val_loss: 3.2551\n",
            "Epoch 27/50\n",
            "358/359 [============================>.] - ETA: 0s - loss: 2.7733\n",
            "Epoch 27: val_loss improved from 3.25209 to 3.23723, saving model to best_model.h5\n",
            "359/359 [==============================] - 30s 84ms/step - loss: 2.7736 - val_loss: 3.2372\n",
            "Epoch 28/50\n",
            "358/359 [============================>.] - ETA: 0s - loss: 2.7564\n",
            "Epoch 28: val_loss improved from 3.23723 to 3.22790, saving model to best_model.h5\n",
            "359/359 [==============================] - 31s 87ms/step - loss: 2.7564 - val_loss: 3.2279\n",
            "Epoch 29/50\n",
            "358/359 [============================>.] - ETA: 0s - loss: 2.7425\n",
            "Epoch 29: val_loss improved from 3.22790 to 3.22360, saving model to best_model.h5\n",
            "359/359 [==============================] - 30s 84ms/step - loss: 2.7424 - val_loss: 3.2236\n",
            "Epoch 30/50\n",
            "358/359 [============================>.] - ETA: 0s - loss: 2.7229\n",
            "Epoch 30: val_loss did not improve from 3.22360\n",
            "359/359 [==============================] - 30s 83ms/step - loss: 2.7229 - val_loss: 3.2269\n",
            "Epoch 31/50\n",
            "358/359 [============================>.] - ETA: 0s - loss: 2.7133\n",
            "Epoch 31: val_loss improved from 3.22360 to 3.21949, saving model to best_model.h5\n",
            "359/359 [==============================] - 31s 87ms/step - loss: 2.7133 - val_loss: 3.2195\n",
            "Epoch 32/50\n",
            "358/359 [============================>.] - ETA: 0s - loss: 2.7100\n",
            "Epoch 32: val_loss improved from 3.21949 to 3.21773, saving model to best_model.h5\n",
            "359/359 [==============================] - 30s 83ms/step - loss: 2.7102 - val_loss: 3.2177\n",
            "Epoch 33/50\n",
            "358/359 [============================>.] - ETA: 0s - loss: 2.6922\n",
            "Epoch 33: val_loss improved from 3.21773 to 3.20656, saving model to best_model.h5\n",
            "359/359 [==============================] - 31s 88ms/step - loss: 2.6920 - val_loss: 3.2066\n",
            "Epoch 34/50\n",
            "358/359 [============================>.] - ETA: 0s - loss: 2.6821\n",
            "Epoch 34: val_loss did not improve from 3.20656\n",
            "359/359 [==============================] - 30s 84ms/step - loss: 2.6820 - val_loss: 3.2105\n",
            "Epoch 35/50\n",
            "358/359 [============================>.] - ETA: 0s - loss: 2.6656\n",
            "Epoch 35: val_loss improved from 3.20656 to 3.19305, saving model to best_model.h5\n",
            "359/359 [==============================] - 30s 84ms/step - loss: 2.6656 - val_loss: 3.1931\n",
            "Epoch 36/50\n",
            "358/359 [============================>.] - ETA: 0s - loss: 2.6588\n",
            "Epoch 36: val_loss improved from 3.19305 to 3.19018, saving model to best_model.h5\n",
            "359/359 [==============================] - 31s 87ms/step - loss: 2.6591 - val_loss: 3.1902\n",
            "Epoch 37/50\n",
            "358/359 [============================>.] - ETA: 0s - loss: 2.6539\n",
            "Epoch 37: val_loss did not improve from 3.19018\n",
            "359/359 [==============================] - 30s 84ms/step - loss: 2.6538 - val_loss: 3.1989\n",
            "Epoch 38/50\n",
            "358/359 [============================>.] - ETA: 0s - loss: 2.6390\n",
            "Epoch 38: val_loss did not improve from 3.19018\n",
            "359/359 [==============================] - 30s 85ms/step - loss: 2.6391 - val_loss: 3.2005\n",
            "Epoch 39/50\n",
            "358/359 [============================>.] - ETA: 0s - loss: 2.6282\n",
            "Epoch 39: val_loss did not improve from 3.19018\n",
            "359/359 [==============================] - 31s 87ms/step - loss: 2.6281 - val_loss: 3.1913\n",
            "Epoch 40/50\n",
            "358/359 [============================>.] - ETA: 0s - loss: 2.6221\n",
            "Epoch 40: val_loss did not improve from 3.19018\n",
            "359/359 [==============================] - 30s 84ms/step - loss: 2.6221 - val_loss: 3.2010\n",
            "Epoch 41/50\n",
            "358/359 [============================>.] - ETA: 0s - loss: 2.6169\n",
            "Epoch 41: val_loss improved from 3.19018 to 3.18948, saving model to best_model.h5\n",
            "359/359 [==============================] - 31s 87ms/step - loss: 2.6170 - val_loss: 3.1895\n",
            "Epoch 42/50\n",
            "358/359 [============================>.] - ETA: 0s - loss: 2.5988\n",
            "Epoch 42: val_loss improved from 3.18948 to 3.18170, saving model to best_model.h5\n",
            "359/359 [==============================] - 30s 84ms/step - loss: 2.5988 - val_loss: 3.1817\n",
            "Epoch 43/50\n",
            "358/359 [============================>.] - ETA: 0s - loss: 2.5898\n",
            "Epoch 43: val_loss did not improve from 3.18170\n",
            "359/359 [==============================] - 30s 84ms/step - loss: 2.5898 - val_loss: 3.1822\n",
            "Epoch 44/50\n",
            "358/359 [============================>.] - ETA: 0s - loss: 2.5896\n",
            "Epoch 44: val_loss improved from 3.18170 to 3.17602, saving model to best_model.h5\n",
            "359/359 [==============================] - 31s 87ms/step - loss: 2.5895 - val_loss: 3.1760\n",
            "Epoch 45/50\n",
            "358/359 [============================>.] - ETA: 0s - loss: 2.5803\n",
            "Epoch 45: val_loss did not improve from 3.17602\n",
            "359/359 [==============================] - 30s 84ms/step - loss: 2.5802 - val_loss: 3.1763\n",
            "Epoch 46/50\n",
            "358/359 [============================>.] - ETA: 0s - loss: 2.5784\n",
            "Epoch 46: val_loss improved from 3.17602 to 3.17037, saving model to best_model.h5\n",
            "359/359 [==============================] - 30s 84ms/step - loss: 2.5784 - val_loss: 3.1704\n",
            "Epoch 47/50\n",
            "358/359 [============================>.] - ETA: 0s - loss: 2.5639\n",
            "Epoch 47: val_loss improved from 3.17037 to 3.16611, saving model to best_model.h5\n",
            "359/359 [==============================] - 31s 87ms/step - loss: 2.5642 - val_loss: 3.1661\n",
            "Epoch 48/50\n",
            "358/359 [============================>.] - ETA: 0s - loss: 2.5542\n",
            "Epoch 48: val_loss did not improve from 3.16611\n",
            "359/359 [==============================] - 30s 83ms/step - loss: 2.5541 - val_loss: 3.1730\n",
            "Epoch 49/50\n",
            "358/359 [============================>.] - ETA: 0s - loss: 2.5498\n",
            "Epoch 49: val_loss improved from 3.16611 to 3.16412, saving model to best_model.h5\n",
            "359/359 [==============================] - 32s 88ms/step - loss: 2.5498 - val_loss: 3.1641\n",
            "Epoch 50/50\n",
            "358/359 [============================>.] - ETA: 0s - loss: 2.5383\n",
            "Epoch 50: val_loss did not improve from 3.16412\n",
            "359/359 [==============================] - 30s 84ms/step - loss: 2.5386 - val_loss: 3.1803\n"
          ]
        }
      ]
    },
    {
      "cell_type": "markdown",
      "source": [
        "# **Task 6: Load the Best Model and Generate New Music**\n",
        "\n",
        "The best model is loaded, and new music sequences are generated using random starting notes. The generated sequences are then converted back to music notes and saved as a MIDI file for playback or analysis."
      ],
      "metadata": {
        "id": "oUW357Jk501U"
      }
    },
    {
      "cell_type": "code",
      "source": [
        "#loading best model\n",
        "from keras.models import load_model\n",
        "model = load_model('best_model.h5')"
      ],
      "metadata": {
        "id": "AYC7a31CtJkH"
      },
      "execution_count": 18,
      "outputs": []
    },
    {
      "cell_type": "code",
      "source": [
        "import random\n",
        "ind = np.random.randint(0,len(x_val)-1)\n",
        "\n",
        "random_music = x_val[ind]\n",
        "\n",
        "predictions=[]\n",
        "for i in range(10):\n",
        "\n",
        "    random_music = random_music.reshape(1,no_of_timesteps)\n",
        "\n",
        "    prob  = model.predict(random_music)[0]\n",
        "    y_pred= np.argmax(prob,axis=0)\n",
        "    predictions.append(y_pred)\n",
        "\n",
        "    random_music = np.insert(random_music[0],len(random_music[0]),y_pred)\n",
        "    random_music = random_music[1:]\n",
        "\n",
        "print(predictions)"
      ],
      "metadata": {
        "colab": {
          "base_uri": "https://localhost:8080/"
        },
        "id": "5TCBS2-_uds_",
        "outputId": "86510986-4b87-44bb-92fd-10ec91f71c9b"
      },
      "execution_count": 23,
      "outputs": [
        {
          "output_type": "stream",
          "name": "stdout",
          "text": [
            "1/1 [==============================] - 0s 25ms/step\n",
            "1/1 [==============================] - 0s 22ms/step\n",
            "1/1 [==============================] - 0s 21ms/step\n",
            "1/1 [==============================] - 0s 22ms/step\n",
            "1/1 [==============================] - 0s 22ms/step\n",
            "1/1 [==============================] - 0s 26ms/step\n",
            "1/1 [==============================] - 0s 25ms/step\n",
            "1/1 [==============================] - 0s 22ms/step\n",
            "1/1 [==============================] - 0s 22ms/step\n",
            "1/1 [==============================] - 0s 22ms/step\n",
            "[97, 97, 97, 101, 97, 97, 97, 97, 97, 97]\n"
          ]
        }
      ]
    },
    {
      "cell_type": "code",
      "source": [
        "x_int_to_note = dict((number, note_) for number, note_ in enumerate(unique_x))\n",
        "predicted_notes = [x_int_to_note[i] for i in predictions]"
      ],
      "metadata": {
        "id": "Iv0dDGXBudvl"
      },
      "execution_count": 24,
      "outputs": []
    },
    {
      "cell_type": "code",
      "source": [
        "def convert_to_midi(prediction_output):\n",
        "\n",
        "    offset = 0\n",
        "    output_notes = []\n",
        "\n",
        "    # create note and chord objects based on the values generated by the model\n",
        "    for pattern in prediction_output:\n",
        "\n",
        "        # pattern is a chord\n",
        "        if ('.' in pattern) or pattern.isdigit():\n",
        "            notes_in_chord = pattern.split('.')\n",
        "            notes = []\n",
        "            for current_note in notes_in_chord:\n",
        "\n",
        "                cn=int(current_note)\n",
        "                new_note = note.Note(cn)\n",
        "                new_note.storedInstrument = instrument.Piano()\n",
        "                notes.append(new_note)\n",
        "\n",
        "            new_chord = chord.Chord(notes)\n",
        "            new_chord.offset = offset\n",
        "            output_notes.append(new_chord)\n",
        "\n",
        "        # pattern is a note\n",
        "        else:\n",
        "\n",
        "            new_note = note.Note(pattern)\n",
        "            new_note.offset = offset\n",
        "            new_note.storedInstrument = instrument.Piano()\n",
        "            output_notes.append(new_note)\n",
        "\n",
        "        # increase offset each iteration so that notes do not stack\n",
        "        offset += 1\n",
        "    midi_stream = stream.Stream(output_notes)\n",
        "    midi_stream.write('midi', fp='output.mid')\n"
      ],
      "metadata": {
        "id": "41ZIsoC8uiul"
      },
      "execution_count": 25,
      "outputs": []
    },
    {
      "cell_type": "code",
      "source": [
        "convert_to_midi(predicted_notes)"
      ],
      "metadata": {
        "id": "0n9_gmvE2s9k"
      },
      "execution_count": 26,
      "outputs": []
    }
  ]
}